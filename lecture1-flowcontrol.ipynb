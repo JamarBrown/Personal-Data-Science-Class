{
 "cells": [
  {
   "attachments": {},
   "cell_type": "markdown",
   "metadata": {},
   "source": [
    "<h1 style=\"text-align: center;\" > Python Syntax and Flow Controls </h1>"
   ]
  },
  {
   "cell_type": "code",
   "execution_count": 2,
   "metadata": {},
   "outputs": [
    {
     "name": "stdout",
     "output_type": "stream",
     "text": [
      "float value: 3.80, int value: 3, string value Jamar Brown\n"
     ]
    }
   ],
   "source": [
    "#'s are used for commments \n",
    "# Understanding the different data types\n",
    "\n",
    "variable_float = 3.8\n",
    "variable_int = 3\n",
    "variable_string = \"Jamar Brown\"\n",
    "\n",
    "print(\"float value: {0:.2f}, int value: {1:d}, string value {2:s}\".format\n",
    "(variable_float, variable_int, variable_string))\n",
    "\n",
    "# 0:.2f is how many digits we want to print in float\n",
    "# 1:d is for integer\n",
    "# 2:s the string value\n",
    "# the 0 1 2 shows the order\n",
    "# f d s go towards their specific data type\n"
   ]
  },
  {
   "attachments": {},
   "cell_type": "markdown",
   "metadata": {},
   "source": [
    "<h2 style=\"text-align: center\" > Quadratic Functions of Form y=ax^2+bx+c </h2>"
   ]
  },
  {
   "cell_type": "code",
   "execution_count": 3,
   "metadata": {},
   "outputs": [],
   "source": [
    "# <h1> = Title \n",
    "#<h2> = subtitles\n",
    "\n",
    "\n",
    "import math as math\n",
    "import matplotlib.pyplot as plt\n",
    "import numpy as np\n",
    "\n",
    "\n",
    "#we're importing the libraries "
   ]
  },
  {
   "cell_type": "code",
   "execution_count": 4,
   "metadata": {},
   "outputs": [
    {
     "name": "stdout",
     "output_type": "stream",
     "text": [
      "Coefficients a, b and c are: 1.00, 6.00, 2.00\n"
     ]
    }
   ],
   "source": [
    "#prompt the values for the coefficent a, b, and c\n",
    "\n",
    "a,b,c = input(\"Write the valurs of your coefficienet: \").split()\n",
    "a =float(a)\n",
    "b=float(b)\n",
    "c=float(c)\n",
    "\n",
    "\n",
    "print(\"Coefficients a, b and c are: {0:.2f}, {1:.2f}, {2:.2f}\".format(a,b,c))"
   ]
  },
  {
   "cell_type": "code",
   "execution_count": 5,
   "metadata": {},
   "outputs": [
    {
     "name": "stdout",
     "output_type": "stream",
     "text": [
      "x-intercepts: (-0.354,0), (-5.646,0)\n",
      "y-intercepts: (0,2.000)\n"
     ]
    }
   ],
   "source": [
    "#Finding the x-intercepts\n",
    "\n",
    "root_1 = (-b + math.sqrt(math.pow(b,2)-4*a*c))/(2*a)\n",
    "root_2 = (-b - math.sqrt(math.pow(b,2)-4*a*c))/(2*a)\n",
    "\n",
    "print(\"x-intercepts: ({0:.3f},0), ({1:.3f},0)\".format (root_1, root_2))\n",
    "\n",
    "print(\"y-intercepts: (0,{0:.3f})\".format(c))"
   ]
  },
  {
   "cell_type": "code",
   "execution_count": 6,
   "metadata": {},
   "outputs": [
    {
     "name": "stdout",
     "output_type": "stream",
     "text": [
      "x-intercepts: (-0.354,0), (-5.646,0)\n"
     ]
    }
   ],
   "source": [
    "discriminant = math.pow(b,2)-4*a*c\n",
    "\n",
    "if(discriminant >=0):\n",
    "    root_1 = (-b + math.sqrt(math.pow(b,2)-4*a*c))/(2*a)\n",
    "    root_2 = (-b - math.sqrt(math.pow(b,2)-4*a*c))/(2*a)\n",
    "    print(\"x-intercepts: ({0:.3f},0), ({1:.3f},0)\".format (root_1, root_2))\n",
    "else:\n",
    "    print(\"quadratic function does not have x-intercept\")\n"
   ]
  },
  {
   "cell_type": "code",
   "execution_count": 7,
   "metadata": {},
   "outputs": [
    {
     "name": "stdout",
     "output_type": "stream",
     "text": [
      "The vertex of your functions is (-3.000, -7.000) \n"
     ]
    }
   ],
   "source": [
    "h= -b/(2*a)\n",
    "k= a*math.pow(h,2)+b*h+c\n",
    "\n",
    "print(\"The vertex of your functions is ({0:.3f}, {1:.3f}) \".format(h,k))"
   ]
  },
  {
   "cell_type": "code",
   "execution_count": 8,
   "metadata": {},
   "outputs": [
    {
     "name": "stdout",
     "output_type": "stream",
     "text": [
      "hello world\n"
     ]
    },
    {
     "data": {
      "image/png": "[encoded data removed]",
      "text/plain": [
       "<Figure size 432x288 with 1 Axes>"
      ]
     },
     "metadata": {
      "needs_background": "light"
     },
     "output_type": "display_data"
    }
   ],
   "source": [
    "#plot your function\n",
    "\n",
    "#define your x space\n",
    "\n",
    "x = np.linspace(-40,40,100)\n",
    "\n",
    "#define your quadratic function\n",
    "# ** means exponent\n",
    "\n",
    "y= a*(x**2)+b*x+c\n",
    "\n",
    "fig=plt.figure()\n",
    "ax = fig.add_subplot(1,1,1)\n",
    "ax.spines['left'].set_position(\"center\")\n",
    "ax.spines['bottom'].set_position(\"center\")\n",
    "ax.spines['right'].set_color(\"none\")\n",
    "ax.spines['top'].set_color(\"none\")\n",
    "ax.xaxis.set_ticks_position(\"bottom\")\n",
    "ax.yaxis.set_ticks_position(\"left\")\n",
    "\n",
    "plt.plot(x,y,'r')\n",
    "\n",
    "print(\"hello world\")\n"
   ]
  }
 ],
 "metadata": {
  "kernelspec": {
   "display_name": "Python 3",
   "language": "python",
   "name": "python3"
  },
  "language_info": {
   "codemirror_mode": {
    "name": "ipython",
    "version": 3
   },
   "file_extension": ".py",
   "mimetype": "text/x-python",
   "name": "python",
   "nbconvert_exporter": "python",
   "pygments_lexer": "ipython3",
   "version": "3.9.12"
  },
  "orig_nbformat": 4
 },
 "nbformat": 4,
 "nbformat_minor": 2
}
