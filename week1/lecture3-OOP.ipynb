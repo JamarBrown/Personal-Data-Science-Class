{
 "cells": [
  {
   "attachments": {},
   "cell_type": "markdown",
   "metadata": {},
   "source": [
    "<h1 style=\"text-align: center;\">Classes </h1>"
   ]
  },
  {
   "cell_type": "code",
   "execution_count": 11,
   "metadata": {},
   "outputs": [],
   "source": [
    "import math as math\n",
    "import matplotlib.pyplot as plt\n",
    "import numpy as np\n",
    "\n",
    "class QuadraticFunction:\n",
    "    def __init__(self) -> None:\n",
    "        pass\n",
    "\n",
    "    def client_input(self):\n",
    "        self.a, self.b, self.c = input(\"Write the valurs of your coefficienet: \").split()\n",
    "        a = float(self.a)\n",
    "        b = float(self.b)\n",
    "        c = float(self.c)\n",
    "        print(\"Coefficients a, b and c are: {0:.2f}, {1:.2f}, {2:.2f}\".format(a,b,c))\n",
    "        (self.a, self.b, self.c)\n",
    "\n",
    "    def x_intercept(self):\n",
    "        discriminant = math.pow(self.b,2)-4*self.a*self.c\n",
    "        if(discriminant >=0):\n",
    "          root_1 = (-self.b + math.sqrt(discriminant))/(2*self.a)\n",
    "          root_2 = (-self.b - math.sqrt(discriminant))/(2*self.a)\n",
    "          print(\"x-intercepts: ({0:.3f},0), ({1:.3f},0)\".format (root_1, root_2))\n",
    "        else:\n",
    "            print(\"quadratic function does not have x-intercept\")\n",
    "            output = False\n",
    "        return output\n",
    "\n",
    "\n",
    "\n",
    "    # def vertex(self):\n",
    "    #     h = -self.b/(2*self.a)\n",
    "    #     k = self.a * math.pow(h,2) + self.b * h + self.c\n",
    "    #     print(\"The vertex of your functions is ({0:.3f}, {1:.3f}) \".format(h,k)) \n",
    "\n",
    "\n",
    "    def plot_quadraticfunction(self):\n",
    "\n",
    "        x = np.linspace(-40,40,100)\n",
    "        y = self.a * (x**2) + self.b * x + self.c\n",
    "\n",
    "        fig = plt.figure()\n",
    "        ax = fig.add_subplot(1,1,1)\n",
    "        ax.spines['left'].set_position(\"center\")\n",
    "        ax.spines['bottom'].set_position(\"center\")\n",
    "        ax.spines['right'].set_color(\"none\")\n",
    "        ax.spines['top'].set_color(\"none\")\n",
    "        ax.xaxis.set_ticks_position(\"bottom\")\n",
    "        ax.yaxis.set_ticks_position(\"left\")\n",
    "        plt.plot(x,y,'y')\n",
    "\n"
   ]
  },
  {
   "cell_type": "code",
   "execution_count": 12,
   "metadata": {},
   "outputs": [
    {
     "name": "stdout",
     "output_type": "stream",
     "text": [
      "Coefficients a, b and c are: 1.00, 6.00, 2.00\n"
     ]
    },
    {
     "ename": "NameError",
     "evalue": "name 'h' is not defined",
     "output_type": "error",
     "traceback": [
      "\u001b[1;31m---------------------------------------------------------------------------\u001b[0m",
      "\u001b[1;31mNameError\u001b[0m                                 Traceback (most recent call last)",
      "\u001b[1;32mc:\\Users\\jamar\\Desktop\\CIS212_Code\\Personal-Data-Science-Class\\week1\\lecture3-OOP.ipynb Cell 3\u001b[0m in \u001b[0;36m<cell line: 3>\u001b[1;34m()\u001b[0m\n\u001b[0;32m      <a href='vscode-notebook-cell:/c%3A/Users/jamar/Desktop/CIS212_Code/Personal-Data-Science-Class/week1/lecture3-OOP.ipynb#W4sZmlsZQ%3D%3D?line=0'>1</a>\u001b[0m Poly \u001b[39m=\u001b[39m QuadraticFunction()\n\u001b[0;32m      <a href='vscode-notebook-cell:/c%3A/Users/jamar/Desktop/CIS212_Code/Personal-Data-Science-Class/week1/lecture3-OOP.ipynb#W4sZmlsZQ%3D%3D?line=1'>2</a>\u001b[0m Poly\u001b[39m.\u001b[39mclient_input()\n\u001b[1;32m----> <a href='vscode-notebook-cell:/c%3A/Users/jamar/Desktop/CIS212_Code/Personal-Data-Science-Class/week1/lecture3-OOP.ipynb#W4sZmlsZQ%3D%3D?line=2'>3</a>\u001b[0m Poly\u001b[39m.\u001b[39;49mvertex()\n\u001b[0;32m      <a href='vscode-notebook-cell:/c%3A/Users/jamar/Desktop/CIS212_Code/Personal-Data-Science-Class/week1/lecture3-OOP.ipynb#W4sZmlsZQ%3D%3D?line=3'>4</a>\u001b[0m Poly\u001b[39m.\u001b[39mplot_quadraticfunction()\n\u001b[0;32m      <a href='vscode-notebook-cell:/c%3A/Users/jamar/Desktop/CIS212_Code/Personal-Data-Science-Class/week1/lecture3-OOP.ipynb#W4sZmlsZQ%3D%3D?line=4'>5</a>\u001b[0m Poly\u001b[39m.\u001b[39mx_intercept()\n",
      "\u001b[1;32mc:\\Users\\jamar\\Desktop\\CIS212_Code\\Personal-Data-Science-Class\\week1\\lecture3-OOP.ipynb Cell 3\u001b[0m in \u001b[0;36mQuadraticFunction.vertex\u001b[1;34m(self)\u001b[0m\n\u001b[0;32m     <a href='vscode-notebook-cell:/c%3A/Users/jamar/Desktop/CIS212_Code/Personal-Data-Science-Class/week1/lecture3-OOP.ipynb#W4sZmlsZQ%3D%3D?line=29'>30</a>\u001b[0m \u001b[39mdef\u001b[39;00m \u001b[39mvertex\u001b[39m(\u001b[39mself\u001b[39m):\n\u001b[0;32m     <a href='vscode-notebook-cell:/c%3A/Users/jamar/Desktop/CIS212_Code/Personal-Data-Science-Class/week1/lecture3-OOP.ipynb#W4sZmlsZQ%3D%3D?line=30'>31</a>\u001b[0m    \u001b[39m# h = -self.b/(2*self.a)\u001b[39;00m\n\u001b[1;32m---> <a href='vscode-notebook-cell:/c%3A/Users/jamar/Desktop/CIS212_Code/Personal-Data-Science-Class/week1/lecture3-OOP.ipynb#W4sZmlsZQ%3D%3D?line=31'>32</a>\u001b[0m     k \u001b[39m=\u001b[39m \u001b[39mself\u001b[39m\u001b[39m.\u001b[39ma \u001b[39m*\u001b[39m math\u001b[39m.\u001b[39mpow(h,\u001b[39m2\u001b[39m) \u001b[39m+\u001b[39m \u001b[39mself\u001b[39m\u001b[39m.\u001b[39mb \u001b[39m*\u001b[39m h \u001b[39m+\u001b[39m \u001b[39mself\u001b[39m\u001b[39m.\u001b[39mc\n",
      "\u001b[1;31mNameError\u001b[0m: name 'h' is not defined"
     ]
    }
   ],
   "source": [
    "Poly = QuadraticFunction()\n",
    "Poly.client_input()\n",
    "Poly.vertex()\n",
    "Poly.plot_quadraticfunction()\n",
    "Poly.x_intercept()"
   ]
  }
 ],
 "metadata": {
  "kernelspec": {
   "display_name": "base",
   "language": "python",
   "name": "python3"
  },
  "language_info": {
   "name": "python",
   "version": "3.9.12"
  },
  "orig_nbformat": 4
 },
 "nbformat": 4,
 "nbformat_minor": 2
}
