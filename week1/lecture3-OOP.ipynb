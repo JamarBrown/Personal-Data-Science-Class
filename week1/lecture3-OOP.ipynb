{
 "cells": [
  {
   "attachments": {},
   "cell_type": "markdown",
   "metadata": {},
   "source": [
    "<h1 style=\"text-align: center;\">Classes </h1>"
   ]
  },
  {
   "cell_type": "code",
   "execution_count": 19,
   "metadata": {},
   "outputs": [],
   "source": [
    "import math as math\n",
    "import matplotlib.pyplot as plt\n",
    "import numpy as np\n",
    "\n",
    "class QuadraticFunction:\n",
    "    def __init__(self) -> None:\n",
    "        pass\n",
    "\n",
    "    def client_input(self):\n",
    "        self.a, self.b, self.c = input(\"Write the valurs of your coefficienet: \").split()\n",
    "        self.a = float(self.a)\n",
    "        self.b = float(self.b)\n",
    "        self.c = float(self.c)\n",
    "        print(\"Coefficients a, b and c are: {0:.2f}, {1:.2f}, {2:.2f}\".format(self.a, self.b, self.c))\n",
    "        (self.a, self.b, self.c)\n",
    "\n",
    "    def x_intercept(self):\n",
    "        discriminant = math.pow(self.b,2)-4*self.a*self.c\n",
    "        if(discriminant >=0):\n",
    "          root_1 = (-self.b + math.sqrt(discriminant))/(2*self.a)\n",
    "          root_2 = (-self.b - math.sqrt(discriminant))/(2*self.a)\n",
    "          print(\"x-intercepts: ({0:.3f},0), ({1:.3f},0)\".format (root_1, root_2))\n",
    "        else:\n",
    "            print(\"quadratic function does not have x-intercept\")\n",
    "    \n",
    "\n",
    "\n",
    "\n",
    "    def vertex(self):\n",
    "        h = -self.b/(2*self.a)\n",
    "        k = self.a * math.pow(h,2) + self.b * h + self.c\n",
    "        print(\"The vertex of your functions is ({0:.3f}, {1:.3f}) \".format(h,k)) \n",
    "\n",
    "\n",
    "    def plot_quadraticfunction(self):\n",
    "\n",
    "        x = np.linspace(-40,40,100)\n",
    "        y = self.a * (x**2) + self.b * x + self.c\n",
    "\n",
    "        fig = plt.figure()\n",
    "        ax = fig.add_subplot(1,1,1)\n",
    "        ax.spines['left'].set_position(\"center\")\n",
    "        ax.spines['bottom'].set_position(\"center\")\n",
    "        ax.spines['right'].set_color(\"none\")\n",
    "        ax.spines['top'].set_color(\"none\")\n",
    "        ax.xaxis.set_ticks_position(\"bottom\")\n",
    "        ax.yaxis.set_ticks_position(\"left\")\n",
    "        plt.plot(x,y,'y')\n",
    "\n"
   ]
  },
  {
   "cell_type": "code",
   "execution_count": 20,
   "metadata": {},
   "outputs": [
    {
     "name": "stdout",
     "output_type": "stream",
     "text": [
      "Coefficients a, b and c are: 1.00, 6.00, 2.00\n",
      "The vertex of your functions is (-3.000, -7.000) \n",
      "x-intercepts: (-0.354,0), (-5.646,0)\n"
     ]
    },
    {
     "data": {
      "image/png": "[encoded data removed]",
      "text/plain": [
       "<Figure size 432x288 with 1 Axes>"
      ]
     },
     "metadata": {
      "needs_background": "light"
     },
     "output_type": "display_data"
    }
   ],
   "source": [
    "Poly = QuadraticFunction()\n",
    "Poly.client_input()\n",
    "Poly.vertex()\n",
    "Poly.plot_quadraticfunction()\n",
    "Poly.x_intercept()"
   ]
  }
 ],
 "metadata": {
  "kernelspec": {
   "display_name": "base",
   "language": "python",
   "name": "python3"
  },
  "language_info": {
   "name": "python",
   "version": "3.9.12"
  },
  "orig_nbformat": 4
 },
 "nbformat": 4,
 "nbformat_minor": 2
}
