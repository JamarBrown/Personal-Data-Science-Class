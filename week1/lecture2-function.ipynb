{
 "cells": [
  {
   "attachments": {},
   "cell_type": "markdown",
   "metadata": {},
   "source": [
    "<h1 style=\"text-align: center;\">Functions </h1>\n",
    "<h1 style=\"text-align: center;\">We're making our code modular </h1>\n",
    "\n",
    "#center align title"
   ]
  },
  {
   "cell_type": "code",
   "execution_count": 13,
   "metadata": {},
   "outputs": [],
   "source": [
    "import math as math\n",
    "import matplotlib.pyplot as plt\n",
    "import numpy as np"
   ]
  },
  {
   "cell_type": "code",
   "execution_count": 14,
   "metadata": {},
   "outputs": [],
   "source": [
    "def client_input():\n",
    "    a,b,c = input(\"Write the valurs of your coefficienet: \").split()\n",
    "    a = float(a)\n",
    "    b = float(b)\n",
    "    c = float(c)\n",
    "    print(\"Coefficients a, b and c are: {0:.2f}, {1:.2f}, {2:.2f}\".format(a,b,c))\n",
    "    return a, b, c \n",
    "\n",
    "#def means to define a function\n",
    "\n",
    "\n",
    "def x_intercept(a,b,c):\n",
    "    discriminant = math.pow(b,2)-4*a*c\n",
    "    if(discriminant >=0):\n",
    "        root_1 = (-b + math.sqrt(discriminant))/(2*a)\n",
    "        root_2 = (-b - math.sqrt(discriminant))/(2*a)\n",
    "        output = True\n",
    "        print(\"x-intercepts: ({0:.3f},0), ({1:.3f},0)\".format (root_1, root_2))\n",
    "    else:\n",
    "        print(\"quadratic function does not have x-intercept\")\n",
    "        output = False\n",
    "    return output\n",
    "\n",
    "\n",
    "\n",
    "def vertex(a,b,c):\n",
    "   h= -b/(2*a)\n",
    "   k= a*math.pow(h,2)+b*h+c\n",
    "   print(\"The vertex of your functions is ({0:.3f}, {1:.3f}) \".format(h,k)) \n",
    "\n",
    "\n",
    "def plot_quadraticfunction(a,b,c):\n",
    "#plot your function\n",
    "#define your x space\n",
    "    \n",
    "    x = np.linspace(-40,40,100)\n",
    "\n",
    "#define your quadratic function\n",
    "# ** means exponent\n",
    "\n",
    "    y= a*(x**2)+b*x+c\n",
    "\n",
    "    fig=plt.figure()\n",
    "    ax = fig.add_subplot(1,1,1)\n",
    "    ax.spines['left'].set_position(\"center\")\n",
    "    ax.spines['bottom'].set_position(\"center\")\n",
    "    ax.spines['right'].set_color(\"none\")\n",
    "    ax.spines['top'].set_color(\"none\")\n",
    "    ax.xaxis.set_ticks_position(\"bottom\")\n",
    "    ax.yaxis.set_ticks_position(\"left\")\n",
    "\n",
    "    plt.plot(x,y,'r')\n",
    "\n",
    "#'r' represents the color red"
   ]
  },
  {
   "cell_type": "code",
   "execution_count": 15,
   "metadata": {},
   "outputs": [
    {
     "name": "stdout",
     "output_type": "stream",
     "text": [
      "Coefficients a, b and c are: 1.00, 9.00, 3.00\n",
      "x-intercepts: (-0.347,0), (-8.653,0)\n",
      "The vertex of your functions is (-4.500, -17.250) \n"
     ]
    },
    {
     "data": {
      "image/png": "[encoded data removed]",
      "text/plain": [
       "<Figure size 432x288 with 1 Axes>"
      ]
     },
     "metadata": {
      "needs_background": "light"
     },
     "output_type": "display_data"
    }
   ],
   "source": [
    "#main function\n",
    "\n",
    "\n",
    "a,b,c = client_input()\n",
    "x_intercept(a,b,c)\n",
    "vertex(a,b,c)\n",
    "plot_quadraticfunction(a,b,c)"
   ]
  }
 ],
 "metadata": {
  "kernelspec": {
   "display_name": "base",
   "language": "python",
   "name": "python3"
  },
  "language_info": {
   "codemirror_mode": {
    "name": "ipython",
    "version": 3
   },
   "file_extension": ".py",
   "mimetype": "text/x-python",
   "name": "python",
   "nbconvert_exporter": "python",
   "pygments_lexer": "ipython3",
   "version": "3.9.12"
  },
  "orig_nbformat": 4
 },
 "nbformat": 4,
 "nbformat_minor": 2
}
